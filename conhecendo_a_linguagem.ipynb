{
 "cells": [
  {
   "cell_type": "markdown",
   "id": "c5c50f8e-fd0c-48c4-90b4-3ac880473ba8",
   "metadata": {},
   "source": [
    "## Tipos de Dados"
   ]
  },
  {
   "cell_type": "code",
   "execution_count": 8,
   "id": "b5bcd9e2-d8a9-48c8-99c0-49d9a9b8305c",
   "metadata": {},
   "outputs": [],
   "source": [
    "# Números inteiros (int): utilizado para representar valors não fracionados\n",
    "num1 = 10\n",
    "# Números de ponto flutuante (float): utilizados para representar valores que podem ser fracionados\n",
    "num2 = 20.5\n",
    "# Booleano (bool): utilizado para representar VERDADEIRO ou FALSO\n",
    "teste = True\n",
    "# String (str): utilizado para representar cadeias de caracteres\n",
    "nome = \"Vagner\""
   ]
  },
  {
   "cell_type": "code",
   "execution_count": 9,
   "id": "38895928-a37d-4373-ae27-a9561dd42f86",
   "metadata": {},
   "outputs": [
    {
     "name": "stdout",
     "output_type": "stream",
     "text": [
      "<class 'int'>\n",
      "<class 'float'>\n",
      "<class 'bool'>\n",
      "<class 'str'>\n"
     ]
    }
   ],
   "source": [
    "print(type(num1))\n",
    "print(type(num2))\n",
    "print(type(teste))\n",
    "print(type(nome))"
   ]
  },
  {
   "cell_type": "markdown",
   "id": "e79b3b17-85d1-4ccf-a1e5-520736db7fd9",
   "metadata": {},
   "source": [
    "## Variáveis e constantes"
   ]
  },
  {
   "cell_type": "code",
   "execution_count": 4,
   "id": "d01911fd-b201-4a96-9fcd-d9a9a6808da7",
   "metadata": {},
   "outputs": [
    {
     "name": "stdout",
     "output_type": "stream",
     "text": [
      "40\n",
      "41\n",
      "C:\\User\\\n"
     ]
    }
   ],
   "source": [
    "# Variáveis são espaços de armazenamento de dados coju valor pode ser alterado durante a execução\n",
    "#do programa. Constantes não podem sofrer alteração depois que um valor é atribuído a ela.\n",
    "\n",
    "#Variáveis\n",
    "age = 40 #o valor dessa variável pode ser alterado\n",
    "print(age)\n",
    "age = 41\n",
    "print(age)\n",
    "\n",
    "#Constante\n",
    "#Python não tem constantes, então se convencionou utilizar u nome da variável todo em maiúsculo para \n",
    "#avisar que aquele valor não deve ser alterado.\n",
    "PATH = \"C:\\\\User\\\\\"\n",
    "print(PATH)"
   ]
  },
  {
   "cell_type": "markdown",
   "id": "70a19342-60ee-4020-952a-8446a3c37cff",
   "metadata": {},
   "source": [
    "## Conversão de tipos"
   ]
  },
  {
   "cell_type": "code",
   "execution_count": 6,
   "id": "32b1cab7-d476-4eaf-be09-1c0ac8481f7a",
   "metadata": {},
   "outputs": [
    {
     "name": "stdout",
     "output_type": "stream",
     "text": [
      "18.5\n",
      "<class 'str'>\n",
      "18.5\n",
      "<class 'float'>\n",
      "16\n",
      "<class 'int'>\n",
      "16.0\n",
      "<class 'float'>\n"
     ]
    }
   ],
   "source": [
    "#String para ponto flutuante\n",
    "valor1 = \"18.5\"\n",
    "print(valor1)\n",
    "print(type(valor1))\n",
    "valor2 = float(valor1)\n",
    "print(valor2)\n",
    "print(type(valor2))\n",
    "\n",
    "#Inteiro para float\n",
    "valor3 = 16\n",
    "print(valor3)\n",
    "print(type(valor3))\n",
    "valor4 = float(valor3)\n",
    "print(valor4)\n",
    "print(type(valor4))\n",
    "\n",
    "#Construtotres que podem ser utilizados para conversão de valore: str(), float(), int()"
   ]
  },
  {
   "cell_type": "markdown",
   "id": "839508ca-a717-4849-9844-74b0a2613c0a",
   "metadata": {},
   "source": [
    "## Funções de entrada e de saída"
   ]
  },
  {
   "cell_type": "code",
   "execution_count": 8,
   "id": "68917272-e742-4763-9708-b528b32fac6b",
   "metadata": {},
   "outputs": [
    {
     "name": "stdin",
     "output_type": "stream",
     "text": [
      "Insira o valor da sua idade:  40\n"
     ]
    },
    {
     "name": "stdout",
     "output_type": "stream",
     "text": [
      "40\n"
     ]
    }
   ],
   "source": [
    "#Ler com a função input\n",
    "idade = input(\"Insira o valor da sua idade: \")\n",
    "#Exibe informação com print\n",
    "print(idade)"
   ]
  },
  {
   "cell_type": "code",
   "execution_count": 11,
   "id": "d3a24ae8-480d-48ed-802d-621218c55c41",
   "metadata": {},
   "outputs": [
    {
     "name": "stdout",
     "output_type": "stream",
     "text": [
      "Vagner Almeida\n",
      "Vagner Almeida...\n",
      "Vagner#Almeida\n"
     ]
    }
   ],
   "source": [
    "#Outras formas de usar o print\n",
    "nome = \"Vagner\"\n",
    "sobrenome = \"Almeida\"\n",
    "\n",
    "print(nome, sobrenome)\n",
    "print(nome, sobrenome, end=\"...\\n\")\n",
    "print(nome, sobrenome, sep=\"#\")"
   ]
  },
  {
   "cell_type": "code",
   "execution_count": null,
   "id": "797287f7-32c7-4a53-9d5d-7eddc721e706",
   "metadata": {},
   "outputs": [],
   "source": []
  }
 ],
 "metadata": {
  "kernelspec": {
   "display_name": "Python 3 (ipykernel)",
   "language": "python",
   "name": "python3"
  },
  "language_info": {
   "codemirror_mode": {
    "name": "ipython",
    "version": 3
   },
   "file_extension": ".py",
   "mimetype": "text/x-python",
   "name": "python",
   "nbconvert_exporter": "python",
   "pygments_lexer": "ipython3",
   "version": "3.12.3"
  }
 },
 "nbformat": 4,
 "nbformat_minor": 5
}
