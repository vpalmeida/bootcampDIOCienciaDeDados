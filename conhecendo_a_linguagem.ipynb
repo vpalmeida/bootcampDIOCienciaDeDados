{
 "cells": [
  {
   "cell_type": "markdown",
   "id": "c5c50f8e-fd0c-48c4-90b4-3ac880473ba8",
   "metadata": {},
   "source": [
    "## Tipos de Dados"
   ]
  },
  {
   "cell_type": "code",
   "execution_count": 8,
   "id": "b5bcd9e2-d8a9-48c8-99c0-49d9a9b8305c",
   "metadata": {},
   "outputs": [],
   "source": [
    "# Números inteiros (int): utilizado para representar valors não fracionados\n",
    "num1 = 10\n",
    "# Números de ponto flutuante (float): utilizados para representar valores que podem ser fracionados\n",
    "num2 = 20.5\n",
    "# Booleano (bool): utilizado para representar VERDADEIRO ou FALSO\n",
    "teste = True\n",
    "# String (str): utilizado para representar cadeias de caracteres\n",
    "nome = \"Vagner\""
   ]
  },
  {
   "cell_type": "code",
   "execution_count": 9,
   "id": "38895928-a37d-4373-ae27-a9561dd42f86",
   "metadata": {},
   "outputs": [
    {
     "name": "stdout",
     "output_type": "stream",
     "text": [
      "<class 'int'>\n",
      "<class 'float'>\n",
      "<class 'bool'>\n",
      "<class 'str'>\n"
     ]
    }
   ],
   "source": [
    "print(type(num1))\n",
    "print(type(num2))\n",
    "print(type(teste))\n",
    "print(type(nome))"
   ]
  },
  {
   "cell_type": "markdown",
   "id": "e79b3b17-85d1-4ccf-a1e5-520736db7fd9",
   "metadata": {},
   "source": [
    "## Variáveis e constantes"
   ]
  },
  {
   "cell_type": "code",
   "execution_count": null,
   "id": "d01911fd-b201-4a96-9fcd-d9a9a6808da7",
   "metadata": {},
   "outputs": [],
   "source": []
  }
 ],
 "metadata": {
  "kernelspec": {
   "display_name": "Python 3 (ipykernel)",
   "language": "python",
   "name": "python3"
  },
  "language_info": {
   "codemirror_mode": {
    "name": "ipython",
    "version": 3
   },
   "file_extension": ".py",
   "mimetype": "text/x-python",
   "name": "python",
   "nbconvert_exporter": "python",
   "pygments_lexer": "ipython3",
   "version": "3.11.7"
  }
 },
 "nbformat": 4,
 "nbformat_minor": 5
}
