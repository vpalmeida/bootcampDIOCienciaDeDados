{
 "cells": [
  {
   "cell_type": "markdown",
   "id": "e714336d-034c-48b2-8ccf-4128c1cbfc8a",
   "metadata": {},
   "source": [
    "## Identação e blocos"
   ]
  },
  {
   "cell_type": "code",
   "execution_count": 5,
   "id": "da7a31fb-16f3-4ef4-b984-8d04ba0b9cc1",
   "metadata": {},
   "outputs": [
    {
     "name": "stdout",
     "output_type": "stream",
     "text": [
      "Dentro do while\n",
      "10\n",
      "9\n",
      "8\n",
      "7\n",
      "6\n",
      "5\n",
      "4\n",
      "3\n",
      "2\n",
      "1\n",
      "Fora do while\n",
      "0\n"
     ]
    }
   ],
   "source": [
    "# Em python, a identação é o que determina o inicio e o fim de um bloco de comandos\n",
    "valor = 10\n",
    "\n",
    "print(\"Dentro do while\")\n",
    "while (valor > 0): #inicio do bloco while\n",
    "    print(valor)\n",
    "    valor -= 1 #fim do bloco while\n",
    "\n",
    "print(\"Fora do while\")\n",
    "print(valor)\n"
   ]
  },
  {
   "cell_type": "markdown",
   "id": "325ccd4d-bdeb-4d86-b8fd-5a485de15f61",
   "metadata": {},
   "source": [
    "## Estruturas condicionais"
   ]
  },
  {
   "cell_type": "code",
   "execution_count": 12,
   "id": "c18d8bc4-ccac-4e24-9092-68418179fea1",
   "metadata": {},
   "outputs": [
    {
     "name": "stdout",
     "output_type": "stream",
     "text": [
      "é menor\n",
      "é diferente\n",
      "é menor\n"
     ]
    }
   ],
   "source": [
    "#Permitem o desvio de fluxo de controle quando determinadoas condições são atendidas\n",
    "#if -> testa o valor lógico de uma expressão\n",
    "valor = 150\n",
    "if (valor > 200):\n",
    "    print(\"é maior\")\n",
    "if (valor < 200):\n",
    "    print(\"é menor\")\n",
    "if (valor == 200):\n",
    "    print(\"é igual\")\n",
    "\n",
    "#if-else -> testa uma condição e caso seja falsa executa o bloco do else\n",
    "if (valor == 200):\n",
    "    print(\"é igual\")\n",
    "else:\n",
    "    print(\"é diferente\")\n",
    "\n",
    "#if-elif-else -> quando quer testar mais de uma condição de desvio\n",
    "if (valor > 200):\n",
    "    print(\"é maior\")\n",
    "elif (valor < 200):\n",
    "    print(\"é menor\")\n",
    "else:\n",
    "    print(\"é igual\")"
   ]
  },
  {
   "cell_type": "markdown",
   "id": "7fbcce36-3d90-4fd7-b31d-f662273149b1",
   "metadata": {},
   "source": [
    "## Estruturas de repetição"
   ]
  },
  {
   "cell_type": "code",
   "execution_count": 2,
   "id": "ecbea103-ac23-40ce-bb28-9bea19bf0a30",
   "metadata": {},
   "outputs": [
    {
     "name": "stdout",
     "output_type": "stream",
     "text": [
      "V\n",
      "a\n",
      "g\n",
      "n\n",
      "e\n",
      "r\n",
      " \n",
      "P\n",
      "a\n",
      "r\n",
      "e\n",
      "n\n",
      "t\n",
      "e\n",
      " \n",
      "A\n",
      "l\n",
      "m\n",
      "e\n",
      "i\n",
      "d\n",
      "a\n"
     ]
    },
    {
     "name": "stdin",
     "output_type": "stream",
     "text": [
      "Insira o valor inicial:  10\n"
     ]
    },
    {
     "name": "stdout",
     "output_type": "stream",
     "text": [
      "Os próximos 10 valores são\n",
      "11\n",
      "12\n",
      "13\n",
      "14\n",
      "15\n",
      "16\n",
      "17\n",
      "18\n",
      "19\n",
      "20\n"
     ]
    },
    {
     "name": "stdin",
     "output_type": "stream",
     "text": [
      "Insira o valor inicial:  25\n"
     ]
    },
    {
     "name": "stdout",
     "output_type": "stream",
     "text": [
      "Os próximos 10 valores são\n",
      "26\n",
      "27\n",
      "28\n",
      "29\n",
      "30\n",
      "31\n",
      "32\n",
      "33\n",
      "34\n",
      "35\n"
     ]
    }
   ],
   "source": [
    "# Servem pra repetir um determinado trecho de código por um determinado número de vezes\n",
    "#ou até que uma determinada condição seja atingida.\n",
    "nome = \"Vagner Parente Almeida\"\n",
    "\n",
    "for letra in nome:\n",
    "    print(letra)\n",
    "\n",
    "\n",
    "#Exemplo de uso da estrutura while\n",
    "valor_inicial = int(input(\"Insira o valor inicial: \"))\n",
    "print(\"Os próximos 10 valores são\")\n",
    "\n",
    "index = 1;\n",
    "\n",
    "while (index <= 10):\n",
    "    valor_inicial += 1\n",
    "    print(valor_inicial)\n",
    "    index += 1\n",
    "\n",
    "#Função range\n",
    "valor_inicial = int(input(\"Insira o valor inicial: \"))\n",
    "print(\"Os próximos 10 valores são\")\n",
    "\n",
    "valor = valor_inicial\n",
    "for num in range(0, 10, 1): #o primeiro agumento é o valor inicial, o segundo argumento é o valor final e o terceiro é o incremento\n",
    "    valor_inicial += 1\n",
    "    print(valor_inicial)    "
   ]
  },
  {
   "cell_type": "code",
   "execution_count": null,
   "id": "78d9cb38-a098-41f1-a804-0726cf050870",
   "metadata": {},
   "outputs": [],
   "source": []
  }
 ],
 "metadata": {
  "kernelspec": {
   "display_name": "Python 3 (ipykernel)",
   "language": "python",
   "name": "python3"
  },
  "language_info": {
   "codemirror_mode": {
    "name": "ipython",
    "version": 3
   },
   "file_extension": ".py",
   "mimetype": "text/x-python",
   "name": "python",
   "nbconvert_exporter": "python",
   "pygments_lexer": "ipython3",
   "version": "3.11.7"
  }
 },
 "nbformat": 4,
 "nbformat_minor": 5
}
