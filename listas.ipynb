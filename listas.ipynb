{
 "cells": [
  {
   "cell_type": "markdown",
   "id": "84ee9240-6156-46c5-b0f9-dbc4f5848222",
   "metadata": {},
   "source": [
    "# Trabalhando com listas\n",
    "\n",
    "Aramzena de maneira sequencial qualquer tipo de objeto."
   ]
  },
  {
   "cell_type": "markdown",
   "id": "9f667b9f-b5d8-446b-a805-639a275d6b0f",
   "metadata": {},
   "source": [
    "## Criação e acesso"
   ]
  },
  {
   "cell_type": "code",
   "execution_count": 11,
   "id": "f11cda57-ab35-4989-b13a-2d6f76659fb4",
   "metadata": {},
   "outputs": [
    {
     "name": "stdout",
     "output_type": "stream",
     "text": [
      "CRIAÇÃO\n",
      "['laranja', 'maça', 'uva']\n",
      "[]\n",
      "['p', 'y', 't', 'h', 'o', 'n']\n",
      "[0, 1, 2, 3, 4, 5, 6, 7, 8, 9]\n",
      "['Ferrari', 'F8', 4200000, 2900]\n",
      "\n",
      "ACESSO\n",
      "laranja\n",
      "uva\n",
      "\n",
      "MATRIZ\n",
      "[['a', 'b', 'c'], ['d', 'e', 'f'], ['g', 'h', 'i']]\n",
      "['a', 'b', 'c']\n",
      "a\n",
      "\n",
      "FATIAMENTO\n",
      "['V', 'a', 'g', 'n', 'e', 'r', ' ', 'P', 'a', 'r', 'e', 'n', 't', 'e', ' ', 'A', 'l', 'm', 'e', 'i', 'd', 'a']\n",
      "['g', 'n', 'e', 'r', ' ', 'P', 'a', 'r', 'e', 'n', 't', 'e', ' ', 'A', 'l', 'm', 'e', 'i', 'd', 'a']\n",
      "['V', 'a']\n",
      "['a', 'g']\n",
      "['V', 'g']\n",
      "['V', 'a', 'g', 'n', 'e', 'r', ' ', 'P', 'a', 'r', 'e', 'n', 't', 'e', ' ', 'A', 'l', 'm', 'e', 'i', 'd', 'a']\n",
      "['a', 'd', 'i', 'e', 'm', 'l', 'A', ' ', 'e', 't', 'n', 'e', 'r', 'a', 'P', ' ', 'r', 'e', 'n', 'g', 'a', 'V']\n",
      "\n",
      "IMPRESSÃO COM FOR\n",
      "V\n",
      "a\n",
      "g\n",
      "n\n",
      "e\n",
      "r\n",
      " \n",
      "P\n",
      "a\n",
      "r\n",
      "e\n",
      "n\n",
      "t\n",
      "e\n",
      " \n",
      "A\n",
      "l\n",
      "m\n",
      "e\n",
      "i\n",
      "d\n",
      "a\n"
     ]
    }
   ],
   "source": [
    "#Criação\n",
    "frutas = [\"laranja\", \"maça\", \"uva\"] #cria uma lista com os elementos passados como parâtro\n",
    "frutas1 = [] #cria uma lista vazia\n",
    "letras = list(\"python\") #cria uma lista com cada letra da palavra sendo um elemento da lista\n",
    "numeros = list(range(10)) #cria uma lista de numeros sequenciais de 0 a 9 \n",
    "carro = [\"Ferrari\", \"F8\", 4200000, 2900] #lista com tipos variaveis\n",
    "\n",
    "print(\"CRIAÇÃO\")\n",
    "print(frutas)\n",
    "print(frutas1)\n",
    "print(letras)\n",
    "print(numeros)\n",
    "print(carro)\n",
    "\n",
    "#Acesso\n",
    "print(\"\\nACESSO\")\n",
    "print(frutas[0])\n",
    "print(frutas[-1])\n",
    "\n",
    "#Matriz (lista de listas)\n",
    "matriz = [\n",
    "    [\"a\", \"b\", \"c\"],\n",
    "    [\"d\", \"e\", \"f\"],\n",
    "    [\"g\", \"h\", \"i\"]\n",
    "]\n",
    "\n",
    "print(\"\\nMATRIZ\")\n",
    "print(matriz) #matriz inteira\n",
    "print(matriz[0]) #uma linha da matriz\n",
    "print(matriz[0][0]) #um elemento da matriz\n",
    "\n",
    "print(\"\\nFATIAMENTO\")\n",
    "nome = list(\"Vagner Parente Almeida\")\n",
    "print(nome)\n",
    "print(nome[2:])\n",
    "print(nome[:2])\n",
    "print(nome[1:3])\n",
    "print(nome[0:3:2])\n",
    "print(nome[::])\n",
    "print(nome[::-1])\n",
    "\n",
    "print(\"\\nIMPRESSÃO COM FOR\")\n",
    "for letra in nome:\n",
    "    print(letra)"
   ]
  },
  {
   "cell_type": "markdown",
   "id": "e81d0295-8522-48b8-b9b1-6b1643110423",
   "metadata": {},
   "source": [
    "## Métodos da classe"
   ]
  },
  {
   "cell_type": "code",
   "execution_count": 30,
   "id": "7d3547e4-7dbd-4d5e-8220-ff1f59b0ba80",
   "metadata": {},
   "outputs": [
    {
     "name": "stdout",
     "output_type": "stream",
     "text": [
      "[]\n",
      "['Vagner']\n",
      "[]\n",
      "['Vagner', 'Parente', 'Almeida']\n",
      "0\n",
      "1\n",
      "['Vagner', 'Parente', 'Almeida', 'Cáritas', 'Gomes', 'de', 'Oliveira', 'Almeida']\n",
      "2\n",
      "['Vagner', 'Parente', 'Almeida', 'Cáritas', 'Gomes', 'de', 'Oliveira']\n",
      "['Parente', 'Almeida', 'Cáritas', 'Gomes', 'de', 'Oliveira']\n",
      "['Oliveira', 'de', 'Gomes', 'Cáritas', 'Almeida', 'Parente']\n",
      "['Almeida', 'Cáritas', 'Gomes', 'Oliveira', 'Parente', 'de']\n",
      "['de', 'Parente', 'Oliveira', 'Gomes', 'Cáritas', 'Almeida']\n",
      "['de', 'Gomes', 'Parente', 'Cáritas', 'Almeida', 'Oliveira']\n",
      "['Oliveira', 'Parente', 'Cáritas', 'Almeida', 'Gomes', 'de']\n",
      "6\n"
     ]
    }
   ],
   "source": [
    "nomes = []\n",
    "print(nomes)\n",
    "nomes.append(\"Vagner\")#adiciona elementos\n",
    "print(nomes)\n",
    "nomes.clear()#limpa a lista\n",
    "print(nomes)\n",
    "nomes.append(\"Vagner\")\n",
    "nomes.append(\"Parente\")\n",
    "nomes.append(\"Almeida\")\n",
    "nomes1 = nomes.copy()#faz uma cópia da lista\n",
    "print(nomes1)\n",
    "print(nomes.count(\"A\"))#conta quantos elemento existem na lista\n",
    "print(nomes.count(\"Almeida\"))\n",
    "nomes1.clear()\n",
    "nomes1.append(\"Cáritas\")\n",
    "nomes1.append(\"Gomes\")\n",
    "nomes1.append(\"de\")\n",
    "nomes1.append(\"Oliveira\")\n",
    "nomes1.append(\"Almeida\")\n",
    "nomes.extend(nomes1) #junta duas listas\n",
    "print(nomes)\n",
    "print(nomes.index(\"Almeida\"))#retorna onde fica a primeira ocorrência do objeto passado como parâmetro\n",
    "nomes.pop()#remove o último elemento inserido na lista\n",
    "print(nomes)\n",
    "nomes.pop(0)#remove o elemento do indice passado como parâmetro\n",
    "print(nomes)\n",
    "nomes.reverse()#inverte a lista\n",
    "print(nomes)\n",
    "nomes.sort() #ordena a lista\n",
    "print(nomes)\n",
    "nomes.sort(reverse=True) #ordena a lista ao contrário\n",
    "print(nomes)\n",
    "nomes.sort(key=lambda x: len(x)) #crescente pelo tamanho do elemento\n",
    "print(nomes)\n",
    "nomes.sort(key=lambda x: len(x), reverse=True) #decrescente pelo tamanho do elemento\n",
    "print(nomes)\n",
    "print(len(nomes))#tamanho da lista\n"
   ]
  },
  {
   "cell_type": "code",
   "execution_count": null,
   "id": "c2c93750-fa94-4d80-9485-8a3563caff58",
   "metadata": {},
   "outputs": [],
   "source": []
  }
 ],
 "metadata": {
  "kernelspec": {
   "display_name": "Python 3 (ipykernel)",
   "language": "python",
   "name": "python3"
  },
  "language_info": {
   "codemirror_mode": {
    "name": "ipython",
    "version": 3
   },
   "file_extension": ".py",
   "mimetype": "text/x-python",
   "name": "python",
   "nbconvert_exporter": "python",
   "pygments_lexer": "ipython3",
   "version": "3.11.7"
  }
 },
 "nbformat": 4,
 "nbformat_minor": 5
}
