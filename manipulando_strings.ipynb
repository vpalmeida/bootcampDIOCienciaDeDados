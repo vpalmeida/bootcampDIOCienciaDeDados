{
 "cells": [
  {
   "cell_type": "markdown",
   "id": "682289d0-9f5d-4c24-b290-789675138f8b",
   "metadata": {},
   "source": [
    "## Métodos úteis"
   ]
  },
  {
   "cell_type": "code",
   "execution_count": 4,
   "id": "de21c0e6-a762-47b2-9c1c-71eaebddb650",
   "metadata": {},
   "outputs": [
    {
     "name": "stdout",
     "output_type": "stream",
     "text": [
      " CURSO DE PYTHON \n",
      " curso de python \n",
      " Curso De Python \n",
      "Curso de PYTHON\n",
      "Curso de PYTHON \n",
      " Curso de PYTHON\n",
      "################ Curso de PYTHON #################\n",
      " .C.u.r.s.o. .d.e. .P.Y.T.H.O.N. \n"
     ]
    }
   ],
   "source": [
    "curso = \" Curso de PYTHON \"\n",
    "\n",
    "print(curso.upper()) # Transforma todos os caracteres em maiúsculo\n",
    "print(curso.lower()) # Transforma todos os caracteres em minúsculo\n",
    "print(curso.title()) # Todos em minusculos, exceto o primeiro caracter\n",
    "print(curso.strip()) # Remove espaços vazios do inicio e fim da string\n",
    "print(curso.lstrip()) # Remove espaços vazios no inicio da string\n",
    "print(curso.rstrip()) #Remove espaçoes vazios do final da string\n",
    "print(curso.center(50, \"#\")) #\n",
    "print(\".\".join(curso)) #"
   ]
  },
  {
   "cell_type": "markdown",
   "id": "e0555dda-e9ce-4330-bf17-27b48b4eefe6",
   "metadata": {},
   "source": [
    "## Interpolação de variáveis"
   ]
  },
  {
   "cell_type": "code",
   "execution_count": 15,
   "id": "2b677083-d560-424b-bfd1-b4993a445099",
   "metadata": {},
   "outputs": [
    {
     "name": "stdout",
     "output_type": "stream",
     "text": [
      "Meu nome é Vagner. Tenho 20 anos.\n",
      "Meu nome é Vagner. Tenho 20 anos.\n",
      "Meu nome é Vagner. Tenho 20 anos.\n",
      "Meu nome é Vagner. Tenho 20 anos.\n",
      "Meu nome é Vagner. Tenho 20 anos.\n",
      "Meu nome é Vagner. Tenho 20 anos.\n",
      "Valor de PI: 3.14\n",
      "Valor de PI:       3.14\n"
     ]
    }
   ],
   "source": [
    "nome = \"Vagner\"\n",
    "idade = \"20\"\n",
    "\n",
    "pessoa = {\"nome\": \"Vagner\", \"idade\": 20}\n",
    "\n",
    "#%\n",
    "print(\"Meu nome é %s. Tenho %s anos.\" % (nome, idade))\n",
    "\n",
    "#format\n",
    "print(\"Meu nome é {}. Tenho {} anos.\".format(nome, idade))\n",
    "print(\"Meu nome é {1}. Tenho {0} anos.\".format(idade, nome))\n",
    "print(\"Meu nome é {nome}. Tenho {idade} anos.\".format(nome=nome, idade=idade))\n",
    "print(\"Meu nome é {nome}. Tenho {idade} anos.\".format(**pessoa))\n",
    "\n",
    "#f strings\n",
    "print(f\"Meu nome é {nome}. Tenho {idade} anos.\")\n",
    "\n",
    "#Formatação de ponto flutuante\n",
    "PI = 3.14159\n",
    "print(f\"Valor de PI: {PI:.2f}\") #máximo de 2 caracteres após a virgula\n",
    "print(f\"Valor de PI: {PI:10.2f}\") #Insere espaços em branco antes do numero"
   ]
  },
  {
   "cell_type": "markdown",
   "id": "508ed48d-bd6d-47b9-af61-69255c14c60e",
   "metadata": {},
   "source": [
    "## Fatiamento de String"
   ]
  },
  {
   "cell_type": "code",
   "execution_count": 24,
   "id": "db95c047-22a5-42da-b55a-6defb79c4e61",
   "metadata": {},
   "outputs": [
    {
     "name": "stdout",
     "output_type": "stream",
     "text": [
      "V\n",
      "Vagner\n",
      "Parente Almeida\n",
      "Parente\n",
      "Prne\n",
      "Vagner Parente Almeida\n",
      "adiemlA etneraP rengaV\n"
     ]
    }
   ],
   "source": [
    "# Utilizada para retornar sbstring\n",
    "nome = \"Vagner Parente Almeida\"\n",
    "print(nome[0]) # pega a posição da string indicada \n",
    "print(nome[:6]) # pega do inicio até a posição 5\n",
    "print(nome[7:]) # pega a partir da posição 7 até o final\n",
    "print(nome[7:14]) # pega da posição 7 até a 13\n",
    "print(nome[7:14:2]) # pega da posição 7 até a 13 de duas em duas posições\n",
    "print(nome[:]) # pega toda a string\n",
    "print(nome[::-1]) #espelha a string"
   ]
  },
  {
   "cell_type": "markdown",
   "id": "807cb891-c887-4ef5-b494-a570e2cc3fa7",
   "metadata": {},
   "source": [
    "## String múltiplas linhas"
   ]
  },
  {
   "cell_type": "code",
   "execution_count": 26,
   "id": "07739009-1af7-4c31-8734-38f03880952d",
   "metadata": {},
   "outputs": [
    {
     "name": "stdout",
     "output_type": "stream",
     "text": [
      "\n",
      "    Olá! Meu nome é Vagner Parente Almeida\n",
      "    e estou aprendendo Python.\n",
      "    \n"
     ]
    }
   ],
   "source": [
    "nome_completo = \"Vagner Parente Almeida\"\n",
    "\n",
    "mensagem = f\"\"\"\n",
    "    Olá! Meu nome é {nome_completo}\n",
    "    e estou aprendendo Python.\n",
    "    \"\"\"\n",
    "\n",
    "print(mensagem)"
   ]
  },
  {
   "cell_type": "code",
   "execution_count": null,
   "id": "b80cf1b4-6a52-4f55-a229-968674e870fe",
   "metadata": {},
   "outputs": [],
   "source": []
  }
 ],
 "metadata": {
  "kernelspec": {
   "display_name": "Python 3 (ipykernel)",
   "language": "python",
   "name": "python3"
  },
  "language_info": {
   "codemirror_mode": {
    "name": "ipython",
    "version": 3
   },
   "file_extension": ".py",
   "mimetype": "text/x-python",
   "name": "python",
   "nbconvert_exporter": "python",
   "pygments_lexer": "ipython3",
   "version": "3.12.3"
  }
 },
 "nbformat": 4,
 "nbformat_minor": 5
}
