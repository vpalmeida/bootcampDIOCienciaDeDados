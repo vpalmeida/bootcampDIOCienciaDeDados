{
 "cells": [
  {
   "cell_type": "markdown",
   "id": "1e2d0487-6b3c-42c5-bdca-e98f73331e18",
   "metadata": {},
   "source": [
    "# Bootcamp Potência Tech Ciência de Dados com Python\n",
    "## Sistema Bancário\n",
    "\n",
    "Desenvolvimento de um sistema que simula algumas operações bancárias simples."
   ]
  },
  {
   "cell_type": "code",
   "execution_count": 31,
   "id": "de3fa989-c984-450c-9aaf-0ad0ef15a741",
   "metadata": {},
   "outputs": [],
   "source": [
    "def cabecalho_e_menu(saldo_atual):\n",
    "    print(f\"\"\"\n",
    "                SISTEMA BANCÁRIO\n",
    "\n",
    "                                    Saldo Atual {saldo_atual:.2f}\n",
    "\n",
    "Menu de opções:\n",
    "\n",
    "    1 - Depositar\n",
    "    2 - Sacar\n",
    "    3 - Extrato\n",
    "    4 - Sair\n",
    "        \"\"\")\n",
    "    \n",
    "\n",
    "def rodar_sistema():\n",
    "    #Definição das variáveis\n",
    "    LIMITE_VALOR_SAQUE = 500\n",
    "    LIMITE_QTD_SAQUE = 3\n",
    "\n",
    "    saques_realizados = 0\n",
    "    valor_sacado = 0\n",
    "    \n",
    "    saldo_atual = 0.0\n",
    "    extrato = \"\"\n",
    "    \n",
    "    \n",
    "    while(True):\n",
    "        cabecalho_e_menu(saldo_atual)\n",
    "        \n",
    "        opcao = input(\"Informe a opção desejada: \")\n",
    "\n",
    "        if(opcao == \"1\"):\n",
    "            valor = float(input(\"\\nInforme o valor do depósito: \"))\n",
    "\n",
    "            if (valor > 0):\n",
    "                saldo_atual += valor\n",
    "                extrato += f\"Depósito: R$ {valor:.2f}\\n\"\n",
    "                print(\"\\nDepósito efetuado com sucesso.\")\n",
    "                input(\"Pressione qualquer tecla para continuar...\")\n",
    "            else:\n",
    "                print(\"\\nValor inválido.\")\n",
    "                input(\"Pressione qualquer tecla para continuar...\")\n",
    "        \n",
    "        elif(opcao == \"2\"):\n",
    "            valor = float(input(\"\\nInforme o valor do saque: \"))\n",
    "            \n",
    "            if(valor <= 0):\n",
    "                print(\"\\nValor inválido.\")\n",
    "                input(\"Pressione qualquer tecla para continuar...\")\n",
    "                continue\n",
    "            elif(valor > saldo_atual):\n",
    "                print(\"\\nSaldo insuficiente.\")\n",
    "                input(\"Pressione qualquer tecla para continuar...\")\n",
    "                continue\n",
    "            elif((valor_sacado + valor) > LIMITE_VALOR_SAQUE):\n",
    "                print(\"\\nValor ultrapassa limite de saque diário.\")\n",
    "                input(\"Pressione qualquer tecla para continuar...\")\n",
    "                continue\n",
    "            elif(saques_realizados >= LIMITE_QTD_SAQUE):\n",
    "                print(\"\\nQuantidade de saques diários ultrapassada.\")\n",
    "                input(\"Pressione qualquer tecla para continuar...\")\n",
    "                continue\n",
    "            else:\n",
    "                saldo_atual -= valor\n",
    "                extrato += f\"Saque: R$ {valor:.2f}\\n\"\n",
    "                saques_realizados += 1\n",
    "                valor_sacado += valor\n",
    "                print(\"\\nSaque realizado com sucesso.\")\n",
    "                input(\"Pressione qualquer tecla para continuar...\")\n",
    "\n",
    "        elif(opcao == \"3\"):\n",
    "            if(extrato == \"\"):\n",
    "                print(f\"\"\"\n",
    "############### EXTRATO ###############\n",
    "Não houve movimentações na conta.\n",
    "#######################################\n",
    "                \"\"\")\n",
    "            else:\n",
    "                print(f\"\"\"\n",
    "############### EXTRATO ###############\n",
    "{extrato}\n",
    "#######################################\n",
    "                \"\"\")\n",
    "                print(f\"Saldo atual: {saldo_atual}\")\n",
    "                input(\"Preesione qualquer tecla para continuar...\")\n",
    "\n",
    "        elif(opcao == \"4\"):\n",
    "            break\n",
    "\n",
    "        else:\n",
    "            print(\"\\nOpção inválida.\")\n",
    "            input(\"Preesione qualquer tecla para continuar...\")"
   ]
  },
  {
   "cell_type": "code",
   "execution_count": 32,
   "id": "888a96a8-bda5-4881-8187-59404b28146e",
   "metadata": {},
   "outputs": [
    {
     "name": "stdout",
     "output_type": "stream",
     "text": [
      "\n",
      "                SISTEMA BANCÁRIO\n",
      "\n",
      "                                    Saldo Atual 0.00\n",
      "\n",
      "Menu de opções:\n",
      "\n",
      "    1 - Depositar\n",
      "    2 - Sacar\n",
      "    3 - Extrato\n",
      "    4 - Sair\n",
      "        \n"
     ]
    },
    {
     "name": "stdin",
     "output_type": "stream",
     "text": [
      "Informe a opção desejada:  4\n"
     ]
    }
   ],
   "source": [
    "rodar_sistema()"
   ]
  },
  {
   "cell_type": "code",
   "execution_count": null,
   "id": "16d3f5c7-ef06-42f6-beef-a2621a26f365",
   "metadata": {},
   "outputs": [],
   "source": [
    "\n",
    "    "
   ]
  }
 ],
 "metadata": {
  "kernelspec": {
   "display_name": "Python 3 (ipykernel)",
   "language": "python",
   "name": "python3"
  },
  "language_info": {
   "codemirror_mode": {
    "name": "ipython",
    "version": 3
   },
   "file_extension": ".py",
   "mimetype": "text/x-python",
   "name": "python",
   "nbconvert_exporter": "python",
   "pygments_lexer": "ipython3",
   "version": "3.12.3"
  }
 },
 "nbformat": 4,
 "nbformat_minor": 5
}
