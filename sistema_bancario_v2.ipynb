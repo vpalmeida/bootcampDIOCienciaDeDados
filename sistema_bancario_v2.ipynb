{
 "cells": [
  {
   "cell_type": "markdown",
   "id": "f0a3f3bb-258b-473d-8b9f-00815de85ffa",
   "metadata": {},
   "source": [
    "# Bootcamp Potência Tech Ciência de Dados com Python\n",
    "## Sistema Bancário - Versão 2.0\n",
    "\n",
    "Desenvolvimento de um sistema que simula algumas operações bancárias simples. Agora com a utilização de funções e estruturas de dados.\n"
   ]
  },
  {
   "cell_type": "code",
   "execution_count": 17,
   "id": "68c3e980-5cbc-4e9a-8c89-558532c91aea",
   "metadata": {},
   "outputs": [],
   "source": [
    "# DEFINIÇÃO DAS FUNÇÕES\n",
    "def cabecalho_menu():\n",
    "    print(f\"\"\"\n",
    "                SISTEMA BANCÁRIO\n",
    "\n",
    "Menu de opções:\n",
    "\n",
    "    1 - Depositar\n",
    "    2 - Sacar\n",
    "    3 - Extrato\n",
    "    4 - Cadastrar usuário\n",
    "    5 - Cadastrar conta\n",
    "    6 - Sair\n",
    "        \"\"\")\n",
    "\n",
    "    return(int(input(\"Informe a opção desejada: \")))\n",
    "    \n",
    "\n",
    "def depositar(saldo_atual, valor, extrato, /):\n",
    "    saldo_atual += valor\n",
    "    extrato += f\"Depósito:\\tR$ {valor:.2f}\\n\"\n",
    "\n",
    "    return saldo_atual, extrato\n",
    "\n",
    "def sacar(*, saldo_atual, valor, extrato):\n",
    "    saldo_atual -= valor\n",
    "    extrato += f\"Saque:\\t\\tR$ {valor:.2f}\\n\"\n",
    "\n",
    "    return saldo_atual, extrato\n",
    "\n",
    "def exibir_extrato(saldo_atual, /, *, extrato):\n",
    "    print(\"\\n############### EXTRATO ###############\")\n",
    "    print(\"Não foram realizadas movimentações.\" if not extrato else extrato)\n",
    "    print(f\"\\nSaldo:\\t\\tR$ {saldo_atual:.2f}\")\n",
    "    print(\"#######################################\")\n",
    "\n",
    "#def criar_usuario(usuarios):\n",
    "\n",
    "#def filtrar_usuario(cpf, usuarios):\n",
    "\n",
    "#def criar_conta(agencia, numero_conta, usuarios):\n",
    "\n",
    "#def listar_contas(contas):\n",
    "\n",
    "#PROGRAMA PRINCIPAL\n",
    "def executar_sistema():\n",
    "    #Definição das variáveis\n",
    "    LIMITE_VALOR_SAQUE = 500\n",
    "    LIMITE_QTD_SAQUE = 3\n",
    "\n",
    "    saques_realizados = 0\n",
    "    valor_sacado = 0\n",
    "    \n",
    "    saldo_atual = 0.0\n",
    "    extrato = \"\"\n",
    "    \n",
    "    while(True):\n",
    "        opcao = cabecalho_menu();\n",
    "\n",
    "        if(opcao not in (1,2,3,4,5,6)):\n",
    "            print(\"\\nOpção inválida.\")\n",
    "            input(\"Preesione qualquer tecla para continuar...\")\n",
    "            continue\n",
    "        else:\n",
    "            if(opcao == 1):\n",
    "                valor = float(input(\"\\nInforme o valor do depósito: \"))\n",
    "\n",
    "                if (valor > 0):\n",
    "                    saldo_atual, extrato = depositar(saldo_atual, valor, extrato)\n",
    "                    print(\"\\nDepósito efetuado com sucesso.\")\n",
    "                    input(\"Pressione qualquer tecla para continuar...\")\n",
    "                else:\n",
    "                    print(\"\\nValor inválido.\")\n",
    "                    input(\"Pressione qualquer tecla para continuar...\")\n",
    "            elif(opcao == 2):\n",
    "                valor = float(input(\"\\nInforme o valor do saque: \"))\n",
    "                \n",
    "                if(valor <= 0):\n",
    "                    print(\"\\nValor inválido.\")\n",
    "                    input(\"Pressione qualquer tecla para continuar...\")\n",
    "                    continue\n",
    "                elif(valor > saldo_atual):\n",
    "                    print(\"\\nSaldo insuficiente.\")\n",
    "                    input(\"Pressione qualquer tecla para continuar...\")\n",
    "                    continue\n",
    "                elif((valor_sacado + valor) > LIMITE_VALOR_SAQUE):\n",
    "                    print(\"\\nValor ultrapassa limite de saque diário.\")\n",
    "                    input(\"Pressione qualquer tecla para continuar...\")\n",
    "                    continue\n",
    "                elif(saques_realizados >= LIMITE_QTD_SAQUE):\n",
    "                    print(\"\\nQuantidade de saques diários ultrapassada.\")\n",
    "                    input(\"Pressione qualquer tecla para continuar...\")\n",
    "                    continue\n",
    "                else:\n",
    "                    saldo_atual, extrato = sacar(saldo_atual=saldo_atual, valor=valor, extrato=extrato)\n",
    "                    saques_realizados += 1\n",
    "                    valor_sacado += valor\n",
    "                    print(\"\\nSaque realizado com sucesso.\")\n",
    "                    input(\"Pressione qualquer tecla para continuar...\")\n",
    "            elif(opcao == 3):\n",
    "                exibir_extrato(saldo_atual, extrato=extrato)\n",
    "                input(\"Pressione qualquer tecla para continuar...\")\n",
    "            #elif(opcao == 4):\n",
    "            #elif(opcao == 5):\n",
    "            else:\n",
    "                break"
   ]
  },
  {
   "cell_type": "code",
   "execution_count": 18,
   "id": "4c3300b7-0941-4d11-a668-2643b0cee8b4",
   "metadata": {},
   "outputs": [
    {
     "name": "stdout",
     "output_type": "stream",
     "text": [
      "\n",
      "                SISTEMA BANCÁRIO\n",
      "\n",
      "Menu de opções:\n",
      "\n",
      "    1 - Depositar\n",
      "    2 - Sacar\n",
      "    3 - Extrato\n",
      "    4 - Cadastrar usuário\n",
      "    5 - Cadastrar conta\n",
      "    6 - Sair\n",
      "        \n"
     ]
    },
    {
     "name": "stdin",
     "output_type": "stream",
     "text": [
      "Informe a opção desejada:  1\n",
      "\n",
      "Informe o valor do depósito:  1500\n"
     ]
    },
    {
     "name": "stdout",
     "output_type": "stream",
     "text": [
      "\n",
      "Depósito efetuado com sucesso.\n"
     ]
    },
    {
     "name": "stdin",
     "output_type": "stream",
     "text": [
      "Pressione qualquer tecla para continuar... \n"
     ]
    },
    {
     "name": "stdout",
     "output_type": "stream",
     "text": [
      "\n",
      "                SISTEMA BANCÁRIO\n",
      "\n",
      "Menu de opções:\n",
      "\n",
      "    1 - Depositar\n",
      "    2 - Sacar\n",
      "    3 - Extrato\n",
      "    4 - Cadastrar usuário\n",
      "    5 - Cadastrar conta\n",
      "    6 - Sair\n",
      "        \n"
     ]
    },
    {
     "name": "stdin",
     "output_type": "stream",
     "text": [
      "Informe a opção desejada:  3\n"
     ]
    },
    {
     "name": "stdout",
     "output_type": "stream",
     "text": [
      "\n",
      "############### EXTRATO ###############\n",
      "Depósito:\tR$ 1500.00\n",
      "\n",
      "\n",
      "Saldo:\t\tR$ 1500.00\n",
      "#######################################\n"
     ]
    },
    {
     "name": "stdin",
     "output_type": "stream",
     "text": [
      "Pressione qualquer tecla para continuar... \n"
     ]
    },
    {
     "name": "stdout",
     "output_type": "stream",
     "text": [
      "\n",
      "                SISTEMA BANCÁRIO\n",
      "\n",
      "Menu de opções:\n",
      "\n",
      "    1 - Depositar\n",
      "    2 - Sacar\n",
      "    3 - Extrato\n",
      "    4 - Cadastrar usuário\n",
      "    5 - Cadastrar conta\n",
      "    6 - Sair\n",
      "        \n"
     ]
    },
    {
     "name": "stdin",
     "output_type": "stream",
     "text": [
      "Informe a opção desejada:  2\n",
      "\n",
      "Informe o valor do saque:  450\n"
     ]
    },
    {
     "name": "stdout",
     "output_type": "stream",
     "text": [
      "\n",
      "Saque realizado com sucesso.\n"
     ]
    },
    {
     "name": "stdin",
     "output_type": "stream",
     "text": [
      "Pressione qualquer tecla para continuar... \n"
     ]
    },
    {
     "name": "stdout",
     "output_type": "stream",
     "text": [
      "\n",
      "                SISTEMA BANCÁRIO\n",
      "\n",
      "Menu de opções:\n",
      "\n",
      "    1 - Depositar\n",
      "    2 - Sacar\n",
      "    3 - Extrato\n",
      "    4 - Cadastrar usuário\n",
      "    5 - Cadastrar conta\n",
      "    6 - Sair\n",
      "        \n"
     ]
    },
    {
     "name": "stdin",
     "output_type": "stream",
     "text": [
      "Informe a opção desejada:  3\n"
     ]
    },
    {
     "name": "stdout",
     "output_type": "stream",
     "text": [
      "\n",
      "############### EXTRATO ###############\n",
      "Depósito:\tR$ 1500.00\n",
      "Saque:\t\tR$ 450.00\n",
      "\n",
      "\n",
      "Saldo:\t\tR$ 1050.00\n",
      "#######################################\n"
     ]
    },
    {
     "name": "stdin",
     "output_type": "stream",
     "text": [
      "Pressione qualquer tecla para continuar... \n"
     ]
    },
    {
     "name": "stdout",
     "output_type": "stream",
     "text": [
      "\n",
      "                SISTEMA BANCÁRIO\n",
      "\n",
      "Menu de opções:\n",
      "\n",
      "    1 - Depositar\n",
      "    2 - Sacar\n",
      "    3 - Extrato\n",
      "    4 - Cadastrar usuário\n",
      "    5 - Cadastrar conta\n",
      "    6 - Sair\n",
      "        \n"
     ]
    },
    {
     "name": "stdin",
     "output_type": "stream",
     "text": [
      "Informe a opção desejada:  6\n"
     ]
    }
   ],
   "source": [
    "executar_sistema()"
   ]
  },
  {
   "cell_type": "code",
   "execution_count": null,
   "id": "6f054a83-ae4b-4b23-9785-b499cfec6cbe",
   "metadata": {},
   "outputs": [],
   "source": []
  }
 ],
 "metadata": {
  "kernelspec": {
   "display_name": "Python 3 (ipykernel)",
   "language": "python",
   "name": "python3"
  },
  "language_info": {
   "codemirror_mode": {
    "name": "ipython",
    "version": 3
   },
   "file_extension": ".py",
   "mimetype": "text/x-python",
   "name": "python",
   "nbconvert_exporter": "python",
   "pygments_lexer": "ipython3",
   "version": "3.12.3"
  }
 },
 "nbformat": 4,
 "nbformat_minor": 5
}
