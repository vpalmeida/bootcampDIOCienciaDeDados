{
 "cells": [
  {
   "cell_type": "markdown",
   "id": "97127206-e86e-4db2-852b-b21fd57f9a4d",
   "metadata": {},
   "source": [
    "## Operadores aritméticos"
   ]
  },
  {
   "cell_type": "code",
   "execution_count": 7,
   "id": "d7efe3fe-40f1-4a86-8fa9-365f9c186b2d",
   "metadata": {},
   "outputs": [
    {
     "name": "stdout",
     "output_type": "stream",
     "text": [
      "Fatores: valor1 = 11 e valor2 = 5\n",
      "Adição (+)\n",
      "16\n",
      "Subtração (-)\n",
      "6\n",
      "Multiplicação (*)\n",
      "55\n",
      "Divisão (/)\n",
      "2.2\n",
      "Divisão inteira (//) - pega apena a parte inteira do resultado\n",
      "2\n",
      "Módulo (%) - pega o resto da divisão\n",
      "1\n",
      "Exponenciação (**)\n",
      "161051\n"
     ]
    }
   ],
   "source": [
    "valor1 = 11\n",
    "valor2 = 5\n",
    "print(\"Fatores: valor1 = \" + str(valor1) + \" e valor2 = \" + str(valor2))\n",
    "\n",
    "#Adição\n",
    "print(\"Adição (+)\")\n",
    "print(valor1 + valor2)\n",
    "\n",
    "#Subtração\n",
    "print(\"Subtração (-)\")\n",
    "print(valor1 - valor2)\n",
    "\n",
    "#Multiplicação\n",
    "print(\"Multiplicação (*)\")\n",
    "print(valor1 * valor2)\n",
    "\n",
    "#Divisão\n",
    "print(\"Divisão (/)\")\n",
    "print(valor1 / valor2)\n",
    "\n",
    "#Divisão inteira\n",
    "print(\"Divisão inteira (//) - pega apena a parte inteira do resultado\")\n",
    "print(valor1 // valor2)\n",
    "\n",
    "#Módulo - resto da divisão\n",
    "print(\"Módulo (%) - pega o resto da divisão\")\n",
    "print(valor1 % valor2)\n",
    "\n",
    "#Exponenciação\n",
    "print(\"Exponenciação (**)\")\n",
    "print(valor1 ** valor2)\n",
    "\n",
    "#Os operadores segue a mesma ordem de precedência da matemática padrão. Parênteses, exponenciação, multiplicação \n",
    "#e divisão e por último adição e subtração. \n",
    "\n",
    "#Em operadores com mesma precedência, faz-se a leitura da esquerda para a direita."
   ]
  },
  {
   "cell_type": "markdown",
   "id": "6da93a73-fd0c-449c-9428-248e1ea7afc0",
   "metadata": {},
   "source": [
    "## Operadores de comparação"
   ]
  },
  {
   "cell_type": "code",
   "execution_count": 10,
   "id": "556217a5-094e-4643-a4d5-15f1649e078e",
   "metadata": {},
   "outputs": [
    {
     "name": "stdout",
     "output_type": "stream",
     "text": [
      "Valores comparados: saldo = 450 e saque = 200\n",
      "\n",
      "Igual (450 == 200)\n",
      "False\n",
      "\n",
      "Diferente (450 != 200)\n",
      "True\n",
      "\n",
      "Menor que (450 < 200)\n",
      "False\n",
      "\n",
      "Menor ou igual (450 <= 200)\n",
      "False\n",
      "\n",
      "Maior que (450 > 200)\n",
      "True\n",
      "\n",
      "Maior ou igual (450 >= 200)\n",
      "True\n"
     ]
    }
   ],
   "source": [
    "#Utilizado para compara dois valores\n",
    "saldo = 450\n",
    "saque = 200\n",
    "\n",
    "print(\"Valores comparados: saldo = \" + str(saldo) + \" e saque = \" + str(saque))\n",
    "\n",
    "print(\"\\nIgual (\" + str(saldo) + \" == \" + str(saque) + \")\")\n",
    "print(saldo == saque)\n",
    "\n",
    "print(\"\\nDiferente (\" + str(saldo) + \" != \" + str(saque) + \")\")\n",
    "print(saldo != saque)\n",
    "\n",
    "print(\"\\nMenor que (\" + str(saldo) + \" < \" + str(saque) + \")\")\n",
    "print(saldo < saque)\n",
    "\n",
    "print(\"\\nMenor ou igual (\" + str(saldo) + \" <= \" + str(saque) + \")\")\n",
    "print(saldo <= saque)\n",
    "\n",
    "print(\"\\nMaior que (\" + str(saldo) + \" > \" + str(saque) + \")\")\n",
    "print(saldo > saque)\n",
    "\n",
    "print(\"\\nMaior ou igual (\" + str(saldo) + \" >= \" + str(saque) + \")\")\n",
    "print(saldo >= saque)"
   ]
  },
  {
   "cell_type": "markdown",
   "id": "7afbb27d-7bc8-48e0-a7f1-f473f77739f4",
   "metadata": {},
   "source": [
    "## Operadores de atribuição"
   ]
  },
  {
   "cell_type": "code",
   "execution_count": 13,
   "id": "0d02769f-c779-42b0-9c05-c46a230b317b",
   "metadata": {},
   "outputs": [
    {
     "name": "stdout",
     "output_type": "stream",
     "text": [
      "500\n",
      "700\n"
     ]
    }
   ],
   "source": [
    "#Utilizados para atribuir um valor inicial a uma variável ou alterar um valor\n",
    "saldo = 500 #atribuição simples\n",
    "print(saldo)\n",
    "\n",
    "#adiciona o valor 200 ao valor do saldo antes de exibir \n",
    "saldo += 200\n",
    "print(saldo)\n",
    "\n",
    "#+=, -=, /=, *=, //= (só funciona para numeros inicialmente inteiros)"
   ]
  },
  {
   "cell_type": "markdown",
   "id": "8287887a-c3c6-4a1c-a7eb-1e1b0a7d4c65",
   "metadata": {},
   "source": [
    "## Operadores lógicos"
   ]
  },
  {
   "cell_type": "code",
   "execution_count": 14,
   "id": "31152443-6070-441d-bbd5-8b460c79369a",
   "metadata": {},
   "outputs": [
    {
     "data": {
      "text/plain": [
       "False"
      ]
     },
     "execution_count": 14,
     "metadata": {},
     "output_type": "execute_result"
    }
   ],
   "source": [
    "#Quando um operador lógico é utilizado o retorno é sempre um valor booleano\n",
    "saldo = 1000\n",
    "saque = 200\n",
    "limite = 100\n",
    "\n",
    "saldo>= saque and saque <= limite\n",
    "\n",
    "# and (verdadeiro quando todos forem verdadeiros)\n",
    "#Tabela verdade\n",
    "#V and V = V\n",
    "#V and F = F\n",
    "#F and V = F\n",
    "#F and F = F\n",
    "\n",
    "# or (verdadeiro quando pelo menos um é verdadeiro)\n",
    "#Tabela verdade\n",
    "#V or V = V\n",
    "#V or F = V\n",
    "#F or V = V\n",
    "#F or F = F\n",
    "\n",
    "# not (negação do valor obtido)\n",
    "# not V = F\n",
    "# not F = V\n"
   ]
  },
  {
   "cell_type": "markdown",
   "id": "ec3770e0-e40d-437f-b0e0-d12c5771fa50",
   "metadata": {},
   "source": [
    "## Operadores de identidade"
   ]
  },
  {
   "cell_type": "code",
   "execution_count": 19,
   "id": "0b7c923f-961c-489a-b00f-a4f36b9d00ad",
   "metadata": {},
   "outputs": [
    {
     "name": "stdout",
     "output_type": "stream",
     "text": [
      "True\n",
      "True\n",
      "True\n",
      "False\n"
     ]
    }
   ],
   "source": [
    "#São operadores utilizados para comparar se os objetos testados ocupam o mesmo lugar na memória\n",
    "# O operador de identidade é o operador \"is\"\n",
    "curso = \"Curso de Python\"\n",
    "nome_curso = curso\n",
    "saldo, limite = 200, 200\n",
    "\n",
    "#Ocupam a mesma região de memória\n",
    "print(curso is nome_curso)\n",
    "print(saldo is limite)\n",
    "\n",
    "valor1 = 200\n",
    "valor2 = 200\n",
    "print(valor1 is valor2)\n",
    "print(valor1 is not valor2)"
   ]
  },
  {
   "cell_type": "markdown",
   "id": "8f1b987d-24f5-4adf-844d-e26e8950f22c",
   "metadata": {},
   "source": [
    "## Operadores de associação"
   ]
  },
  {
   "cell_type": "code",
   "execution_count": 25,
   "id": "b49a4b1e-5c67-44d8-bf06-fb98e8addc49",
   "metadata": {},
   "outputs": [
    {
     "name": "stdout",
     "output_type": "stream",
     "text": [
      "True\n",
      "True\n",
      "False\n"
     ]
    }
   ],
   "source": [
    "#Serve para verificar se um objeto está presente em uma sequência\n",
    "curso = \"Curso de Python\"\n",
    "print(\"Python\" in curso)\n",
    "\n",
    "frutas = [\"uva\", \"limão\", \"laranja\"]\n",
    "print(\"laranja\" in frutas)\n",
    "print(\"melancia\" in frutas)\n"
   ]
  }
 ],
 "metadata": {
  "kernelspec": {
   "display_name": "Python 3 (ipykernel)",
   "language": "python",
   "name": "python3"
  },
  "language_info": {
   "codemirror_mode": {
    "name": "ipython",
    "version": 3
   },
   "file_extension": ".py",
   "mimetype": "text/x-python",
   "name": "python",
   "nbconvert_exporter": "python",
   "pygments_lexer": "ipython3",
   "version": "3.12.3"
  }
 },
 "nbformat": 4,
 "nbformat_minor": 5
}
